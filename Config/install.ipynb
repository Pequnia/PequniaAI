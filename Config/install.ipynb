{
 "cells": [
  {
   "metadata": {},
   "cell_type": "markdown",
   "source": [
    "# PequniaAI: Testing Essential Libraries for Personal AI Agents\n",
    "\n",
    "Welcome to the PequniaAI project! In this notebook, we will test various essential libraries that you'll use to create and train personal AI agents with **PequniaAI**. The goal of PequniaAI is to allow users to create AI agents with specific **personality traits** and data input, which the agents will then use to train and become personalized virtual assistants.\n",
    "\n",
    "In this notebook, we will:\n",
    "1. Test the libraries needed for AI agent development.\n",
    "2. Check the versions and provide basic examples of usage for key libraries.\n",
    "3. Understand how these libraries can contribute to building AI agents with distinct personality traits and behavior.\n"
   ],
   "id": "5fcc73e0239c7d4b"
  },
  {
   "metadata": {},
   "cell_type": "markdown",
   "source": [
    "## 1. Pandas - Handling Data for Training Agents\n",
    "\n",
    "Pandas is essential for managing and manipulating datasets. In PequniaAI, we will rely on Pandas to process the data that users provide, allowing the AI agents to learn from it and improve over time.\n",
    "\n",
    "### Example:\n",
    "We will create a small dataset representing the personality traits of two agents and print the data.\n",
    "\n"
   ],
   "id": "9d1f26dbb4a1031d"
  },
  {
   "metadata": {},
   "cell_type": "code",
   "outputs": [],
   "execution_count": null,
   "source": [
    "import pandas as pd\n",
    "print(\"Pandas Version:\", pd.__version__)\n",
    "\n",
    "# Example: Creating and displaying a DataFrame\n",
    "data = pd.DataFrame({'Name': ['Alice', 'Bob'], 'Age': [25, 30], 'Behavior': ['friendly', 'professional']})\n",
    "print(data)\n"
   ],
   "id": "dac5b9a459af5271"
  },
  {
   "metadata": {},
   "cell_type": "markdown",
   "source": [
    "## 2. NumPy - Performing Numerical Operations\n",
    "\n",
    "NumPy is crucial for numerical operations. It can help us handle multi-dimensional data that may be part of an AI agent's learning process, such as processing behavior or calculating similarity metrics between agents.\n",
    "\n",
    "### Example:\n",
    "We will create a simple NumPy array and perform a basic mathematical operation.\n",
    "\n"
   ],
   "id": "4e25ea0c00eeca65"
  },
  {
   "metadata": {
    "ExecuteTime": {
     "end_time": "2025-01-06T23:26:44.072479Z",
     "start_time": "2025-01-06T23:26:43.928726Z"
    }
   },
   "cell_type": "code",
   "source": [
    "import numpy as np\n",
    "print(\"NumPy Version:\", np.__version__)\n",
    "\n",
    "# Example: Creating a NumPy array and performing basic math\n",
    "array = np.array([1, 2, 3, 4, 5])\n",
    "squared_array = np.square(array)\n",
    "print(\"Squared Array:\", squared_array)\n"
   ],
   "id": "d08ddca7efb0b91f",
   "outputs": [
    {
     "name": "stdout",
     "output_type": "stream",
     "text": [
      "NumPy Version: 2.2.1\n",
      "Squared Array: [ 1  4  9 16 25]\n"
     ]
    }
   ],
   "execution_count": 1
  },
  {
   "metadata": {},
   "cell_type": "markdown",
   "source": [
    "### 4. Matplotlib for Visualizing Agent Behavior\n",
    "\n",
    "\n"
   ],
   "id": "a9e753db4be899d1"
  },
  {
   "metadata": {},
   "cell_type": "code",
   "outputs": [],
   "execution_count": null,
   "source": [
    "import matplotlib.pyplot as plt\n",
    "print(\"Matplotlib Version:\", plt.__version__)\n",
    "\n",
    "# Example: Plotting a simple line graph\n",
    "iterations = [1, 2, 3, 4, 5]\n",
    "accuracy = [0.1, 0.3, 0.5, 0.7, 0.9]\n",
    "\n",
    "plt.plot(iterations, accuracy)\n",
    "plt.title('Training Progress of PequniaAI Agent')\n",
    "plt.xlabel('Iterations')\n",
    "plt.ylabel('Accuracy')\n",
    "plt.show()\n"
   ],
   "id": "72414e4df347cfdf"
  },
  {
   "metadata": {},
   "cell_type": "markdown",
   "source": [
    "### 5. Seaborn for Enhanced Visualizations\n",
    "\n"
   ],
   "id": "7c79fdc3cd68dcb2"
  },
  {
   "metadata": {},
   "cell_type": "code",
   "outputs": [],
   "execution_count": null,
   "source": [
    "import seaborn as sns\n",
    "print(\"Seaborn Version:\", sns.__version__)\n",
    "\n",
    "# Example: Creating a scatter plot\n",
    "sns.scatterplot(x=[25, 30], y=[0, 1], hue=['Friendly', 'Professional'])\n",
    "plt.title('Personality Traits vs. Behavior')\n",
    "plt.show()\n"
   ],
   "id": "51536579693d8da4"
  },
  {
   "metadata": {},
   "cell_type": "markdown",
   "source": [
    "## 5. Scikit-learn - Training AI Models\n",
    "\n",
    "Scikit-learn is one of the most widely used machine learning libraries. In PequniaAI, we will use it to train models based on the data and personality traits provided by the user. The goal is to fine-tune AI agents to respond and behave according to the given input.\n",
    "\n",
    "### Example:\n",
    "We will build a simple classifier that learns from the agent's age and personality.\n",
    "\n"
   ],
   "id": "39d9f0be4c1da1ae"
  },
  {
   "metadata": {
    "ExecuteTime": {
     "end_time": "2025-01-06T23:28:23.056303Z",
     "start_time": "2025-01-06T23:28:22.808664Z"
    }
   },
   "cell_type": "code",
   "source": [
    "from sklearn.model_selection import train_test_split\n",
    "from sklearn.linear_model import LogisticRegression\n",
    "from sklearn.metrics import classification_report\n",
    "\n",
    "print(\"Scikit-learn Version:\", __import__('sklearn').__version__)\n",
    "\n",
    "# Example: Train a model with personality traits\n",
    "data = pd.DataFrame({\n",
    "    'Age': [25, 30, 35, 40],\n",
    "    'Personality': ['Friendly', 'Professional', 'Friendly', 'Professional'],\n",
    "})\n",
    "\n",
    "X = data[['Age']]\n",
    "y = data['Personality']\n",
    "X_train, X_test, y_train, y_test = train_test_split(X, y, test_size=0.2, random_state=42)\n",
    "\n",
    "model = LogisticRegression()\n",
    "model.fit(X_train, y_train)\n",
    "predictions = model.predict(X_test)\n",
    "\n",
    "print(classification_report(y_test, predictions))\n"
   ],
   "id": "3bf5ba0d61473285",
   "outputs": [
    {
     "ename": "ModuleNotFoundError",
     "evalue": "No module named 'sklearn'",
     "output_type": "error",
     "traceback": [
      "\u001B[1;31m---------------------------------------------------------------------------\u001B[0m",
      "\u001B[1;31mModuleNotFoundError\u001B[0m                       Traceback (most recent call last)",
      "Cell \u001B[1;32mIn[2], line 1\u001B[0m\n\u001B[1;32m----> 1\u001B[0m \u001B[38;5;28;01mfrom\u001B[39;00m\u001B[38;5;250m \u001B[39m\u001B[38;5;21;01msklearn\u001B[39;00m\u001B[38;5;21;01m.\u001B[39;00m\u001B[38;5;21;01mmodel_selection\u001B[39;00m\u001B[38;5;250m \u001B[39m\u001B[38;5;28;01mimport\u001B[39;00m train_test_split\n\u001B[0;32m      2\u001B[0m \u001B[38;5;28;01mfrom\u001B[39;00m\u001B[38;5;250m \u001B[39m\u001B[38;5;21;01msklearn\u001B[39;00m\u001B[38;5;21;01m.\u001B[39;00m\u001B[38;5;21;01mlinear_model\u001B[39;00m\u001B[38;5;250m \u001B[39m\u001B[38;5;28;01mimport\u001B[39;00m LogisticRegression\n\u001B[0;32m      3\u001B[0m \u001B[38;5;28;01mfrom\u001B[39;00m\u001B[38;5;250m \u001B[39m\u001B[38;5;21;01msklearn\u001B[39;00m\u001B[38;5;21;01m.\u001B[39;00m\u001B[38;5;21;01mmetrics\u001B[39;00m\u001B[38;5;250m \u001B[39m\u001B[38;5;28;01mimport\u001B[39;00m classification_report\n",
      "\u001B[1;31mModuleNotFoundError\u001B[0m: No module named 'sklearn'"
     ]
    }
   ],
   "execution_count": 2
  },
  {
   "metadata": {},
   "cell_type": "markdown",
   "source": [
    "## 6. PyTorch - Deep Learning for Personal AI Agents\n",
    "\n",
    "PyTorch is a powerful library for building deep learning models. In PequniaAI, we can use PyTorch for more complex models that involve natural language processing or behavior prediction for personalized AI agents.\n",
    "\n",
    "### Example:\n",
    "We will define a simple neural network model.\n",
    "\n"
   ],
   "id": "5a5fae21d85602a"
  },
  {
   "metadata": {
    "ExecuteTime": {
     "end_time": "2025-01-06T23:28:39.900123Z",
     "start_time": "2025-01-06T23:28:39.882818Z"
    }
   },
   "cell_type": "code",
   "source": [
    "import torch\n",
    "print(\"Torch Version:\", torch.__version__)\n",
    "\n",
    "# Example: Defining a simple neural network for training an AI agent\n",
    "model_torch = torch.nn.Sequential(\n",
    "    torch.nn.Linear(1, 10),\n",
    "    torch.nn.ReLU(),\n",
    "    torch.nn.Linear(10, 1)\n",
    ")\n",
    "print(model_torch)\n"
   ],
   "id": "70f978088c10465f",
   "outputs": [
    {
     "ename": "ModuleNotFoundError",
     "evalue": "No module named 'torch'",
     "output_type": "error",
     "traceback": [
      "\u001B[1;31m---------------------------------------------------------------------------\u001B[0m",
      "\u001B[1;31mModuleNotFoundError\u001B[0m                       Traceback (most recent call last)",
      "Cell \u001B[1;32mIn[3], line 1\u001B[0m\n\u001B[1;32m----> 1\u001B[0m \u001B[38;5;28;01mimport\u001B[39;00m\u001B[38;5;250m \u001B[39m\u001B[38;5;21;01mtorch\u001B[39;00m\n\u001B[0;32m      2\u001B[0m \u001B[38;5;28mprint\u001B[39m(\u001B[38;5;124m\"\u001B[39m\u001B[38;5;124mTorch Version:\u001B[39m\u001B[38;5;124m\"\u001B[39m, torch\u001B[38;5;241m.\u001B[39m__version__)\n\u001B[0;32m      4\u001B[0m \u001B[38;5;66;03m# Example: Defining a simple neural network for training an AI agent\u001B[39;00m\n",
      "\u001B[1;31mModuleNotFoundError\u001B[0m: No module named 'torch'"
     ]
    }
   ],
   "execution_count": 3
  },
  {
   "metadata": {},
   "cell_type": "markdown",
   "source": [
    "## 7. Transformers - Using Pretrained Models for AI Conversations\n",
    "\n",
    "The Hugging Face `transformers` library provides state-of-the-art natural language processing models. In PequniaAI, we can use this for enabling AI agents to understand and generate human-like text based on the personality traits and preferences given to them.\n",
    "\n",
    "### Example:\n",
    "We will use a pretrained GPT-2 model to generate text.\n",
    "\n"
   ],
   "id": "f883a668741e2010"
  },
  {
   "metadata": {
    "ExecuteTime": {
     "end_time": "2025-01-06T23:28:52.250299Z",
     "start_time": "2025-01-06T23:28:52.222786Z"
    }
   },
   "cell_type": "code",
   "source": [
    "from transformers import pipeline\n",
    "print(\"Transformers Version:\", __import__('transformers').__version__)\n",
    "\n",
    "# Example: Text Generation using GPT-2\n",
    "text_generator = pipeline('text-generation', model='gpt2')\n",
    "response = text_generator(\"Once upon a time, in a land far away...\")\n",
    "print(response)\n"
   ],
   "id": "fccd73a8456d9c9",
   "outputs": [
    {
     "ename": "ModuleNotFoundError",
     "evalue": "No module named 'transformers'",
     "output_type": "error",
     "traceback": [
      "\u001B[1;31m---------------------------------------------------------------------------\u001B[0m",
      "\u001B[1;31mModuleNotFoundError\u001B[0m                       Traceback (most recent call last)",
      "Cell \u001B[1;32mIn[4], line 1\u001B[0m\n\u001B[1;32m----> 1\u001B[0m \u001B[38;5;28;01mfrom\u001B[39;00m\u001B[38;5;250m \u001B[39m\u001B[38;5;21;01mtransformers\u001B[39;00m\u001B[38;5;250m \u001B[39m\u001B[38;5;28;01mimport\u001B[39;00m pipeline\n\u001B[0;32m      2\u001B[0m \u001B[38;5;28mprint\u001B[39m(\u001B[38;5;124m\"\u001B[39m\u001B[38;5;124mTransformers Version:\u001B[39m\u001B[38;5;124m\"\u001B[39m, \u001B[38;5;28m__import__\u001B[39m(\u001B[38;5;124m'\u001B[39m\u001B[38;5;124mtransformers\u001B[39m\u001B[38;5;124m'\u001B[39m)\u001B[38;5;241m.\u001B[39m__version__)\n\u001B[0;32m      4\u001B[0m \u001B[38;5;66;03m# Example: Text Generation using GPT-2\u001B[39;00m\n",
      "\u001B[1;31mModuleNotFoundError\u001B[0m: No module named 'transformers'"
     ]
    }
   ],
   "execution_count": 4
  },
  {
   "metadata": {},
   "cell_type": "markdown",
   "source": [
    "## 8. Joblib - Saving and Loading AI Models\n",
    "\n",
    "Joblib is used for serializing Python objects, like machine learning models. We can save trained models of AI agents and load them later, ensuring that agents retain their personalized behaviors.\n",
    "\n",
    "### Example:\n",
    "We will save and load a machine learning model using Joblib.\n",
    "\n"
   ],
   "id": "257a61095858f2d5"
  },
  {
   "metadata": {},
   "cell_type": "code",
   "outputs": [],
   "execution_count": null,
   "source": [
    "import joblib\n",
    "print(\"Joblib Version:\", joblib.__version__)\n",
    "\n",
    "# Example: Saving and loading a model\n",
    "from sklearn.linear_model import LogisticRegression\n",
    "from sklearn.model_selection import train_test_split\n",
    "\n",
    "data = pd.DataFrame({\n",
    "    'Age': [25, 30, 35],\n",
    "    'Personality': ['Friendly', 'Professional', 'Friendly'],\n",
    "})\n",
    "X = data[['Age']]\n",
    "y = data['Personality']\n",
    "X_train, X_test, y_train, y_test = train_test_split(X, y, test_size=0.2)\n",
    "\n",
    "model = LogisticRegression()\n",
    "model.fit(X_train, y_train)\n",
    "joblib.dump(model, 'pequnia_model.pkl')\n",
    "\n",
    "# Loading the saved model\n",
    "loaded_model = joblib.load('pequnia_model.pkl')\n",
    "print(loaded_model)\n"
   ],
   "id": "b114c0dd84e9308f"
  },
  {
   "metadata": {},
   "cell_type": "markdown",
   "source": [
    "## 9. Checking Environment Variables\n",
    "\n",
    "To ensure everything is set up correctly, we'll check Python paths and environment variables.\n",
    "\n"
   ],
   "id": "37b576489a08af32"
  },
  {
   "metadata": {},
   "cell_type": "code",
   "outputs": [],
   "execution_count": null,
   "source": [
    "import os\n",
    "import sys\n",
    "print(\"Python Path:\", sys.path)\n",
    "print(\"Environment Variables:\", os.environ.keys())\n"
   ],
   "id": "e90905996fb238bd"
  },
  {
   "metadata": {},
   "cell_type": "markdown",
   "source": [
    "## Conclusion\n",
    "\n",
    "In this notebook, we've tested the key libraries needed for PequniaAI. These libraries will help us process data, train models, visualize results, and even build deep learning models for personalized AI agents. PequniaAI leverages these tools to allow users to define the personality and behavior of their AI agents, which will then be trained on the provided data to become a personal assistant with distinct characteristics.\n",
    "\n",
    "Feel free to explore and experiment with these libraries as you build your own personal AI agents!\n"
   ],
   "id": "523a17551ea38622"
  }
 ],
 "metadata": {
  "kernelspec": {
   "display_name": "Python 3",
   "language": "python",
   "name": "python3"
  },
  "language_info": {
   "codemirror_mode": {
    "name": "ipython",
    "version": 2
   },
   "file_extension": ".py",
   "mimetype": "text/x-python",
   "name": "python",
   "nbconvert_exporter": "python",
   "pygments_lexer": "ipython2",
   "version": "2.7.6"
  }
 },
 "nbformat": 4,
 "nbformat_minor": 5
}
