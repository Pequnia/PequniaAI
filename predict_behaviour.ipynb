{
 "cells": [
  {
   "cell_type": "code",
   "execution_count": null,
   "id": "initial_id",
   "metadata": {
    "collapsed": true
   },
   "outputs": [],
   "source": [
    "# predict_behavior.py\n",
    "import torch\n",
    "from transformers import BertTokenizer\n",
    "from pequniaAI import TraitPredictionNN  # Assuming you have this in a file or module\n",
    "\n",
    "# Load the trained model\n",
    "model = TraitPredictionNN()\n",
    "model.load_state_dict(torch.load(\"pequniaAI_model.pth\"))\n",
    "model.eval()\n",
    "\n",
    "# Load the tokenizer\n",
    "tokenizer = BertTokenizer.from_pretrained('bert-base-uncased')\n",
    "\n",
    "# Function to predict the behavior of a new input\n",
    "def predict_behavior(input_text):\n",
    "    # Tokenize the input text\n",
    "    input_tokens = tokenizer(input_text, padding=True, truncation=True, return_tensors=\"pt\", max_length=50)\n",
    "\n",
    "    # Get the prediction from the model\n",
    "    with torch.no_grad():\n",
    "        output = model(input_tokens['input_ids'])\n",
    "        _, predicted = torch.max(output, 1)\n",
    "\n",
    "    # Decode the predicted label to its corresponding behavior\n",
    "    label_encoder = LabelEncoder()  # Ensure this is the same label encoder used during training\n",
    "    predicted_behavior = label_encoder.inverse_transform(predicted.numpy())\n",
    "    return predicted_behavior[0]\n",
    "\n",
    "# Example usage from the command line\n",
    "if __name__ == \"__main__\":\n",
    "    import sys\n",
    "    input_text = sys.argv[1]  # Get the input from the command line argument\n",
    "    predicted_behavior = predict_behavior(input_text)\n",
    "    print(f\"Predicted Behavior: {predicted_behavior}\")\n"
   ]
  }
 ],
 "metadata": {
  "kernelspec": {
   "display_name": "Python 3",
   "language": "python",
   "name": "python3"
  },
  "language_info": {
   "codemirror_mode": {
    "name": "ipython",
    "version": 2
   },
   "file_extension": ".py",
   "mimetype": "text/x-python",
   "name": "python",
   "nbconvert_exporter": "python",
   "pygments_lexer": "ipython2",
   "version": "2.7.6"
  }
 },
 "nbformat": 4,
 "nbformat_minor": 5
}
