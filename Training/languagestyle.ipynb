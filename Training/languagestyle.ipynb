{
 "cells": [
  {
   "metadata": {},
   "cell_type": "markdown",
   "source": [
    "# Language Style Trait Training for AI Agents (User Input)\n",
    "\n",
    "In this notebook, you will input text examples from different language styles. The AI will classify the language as **Formal**, **Informal**, etc. based on the text you provide.\n",
    "\n",
    "Please input sentences that represent different language styles (Formal, Informal).\n"
   ],
   "id": "cee67b10e1caa98c"
  },
  {
   "metadata": {
    "ExecuteTime": {
     "end_time": "2025-01-06T23:34:36.585105Z",
     "start_time": "2025-01-06T23:34:35.659242Z"
    }
   },
   "cell_type": "code",
   "source": [
    "import pandas as pd\n",
    "from sklearn.model_selection import train_test_split\n",
    "from sklearn.linear_model import LogisticRegression\n",
    "from sklearn.metrics import classification_report\n",
    "\n",
    "# Function to get user input and train model\n",
    "def get_user_input_and_train_language_style():\n",
    "    sentence = input(\"Enter a sentence (e.g., 'I would be happy to assist you'): \")\n",
    "    style = input(\"Enter the language style (e.g., Formal, Informal): \")\n",
    "\n",
    "    # Create a DataFrame from the user input\n",
    "    data = pd.DataFrame({\n",
    "        'Sentence': [sentence],\n",
    "        'Language Style': [style]\n",
    "    })\n",
    "\n",
    "    # Convert sentence into word count feature\n",
    "    data['Word Count'] = data['Sentence'].apply(lambda x: len(x.split()))\n",
    "    X = data[['Word Count']]\n",
    "    y = data['Language Style']\n",
    "\n",
    "    # Train a simple model\n",
    "    model = LogisticRegression(max_iter=200)\n",
    "    model.fit(X, y)\n",
    "\n",
    "    # Print the model details\n",
    "    print(\"Model trained with your input!\")\n",
    "\n",
    "    return model\n",
    "\n",
    "# Get user input and train the model\n",
    "model = get_user_input_and_train_language_style()\n",
    "\n",
    "# Test the model on new input\n",
    "test_sentence = input(\"Enter a sentence to classify language style (e.g., 'Hey, how’s it going?'): \")\n",
    "test_data = pd.DataFrame({\n",
    "    'Sentence': [test_sentence]\n",
    "})\n",
    "test_data['Word Count'] = test_data['Sentence'].apply(lambda x: len(x.split()))\n",
    "\n",
    "# Predict language style based on input\n",
    "prediction = model.predict(test_data[['Word Count']])\n",
    "print(f\"The predicted language style for the sentence is: {prediction[0]}\")\n"
   ],
   "id": "6ff5888c58e7b14a",
   "outputs": [
    {
     "ename": "ModuleNotFoundError",
     "evalue": "No module named 'sklearn'",
     "output_type": "error",
     "traceback": [
      "\u001B[1;31m---------------------------------------------------------------------------\u001B[0m",
      "\u001B[1;31mModuleNotFoundError\u001B[0m                       Traceback (most recent call last)",
      "Cell \u001B[1;32mIn[2], line 2\u001B[0m\n\u001B[0;32m      1\u001B[0m \u001B[38;5;28;01mimport\u001B[39;00m\u001B[38;5;250m \u001B[39m\u001B[38;5;21;01mpandas\u001B[39;00m\u001B[38;5;250m \u001B[39m\u001B[38;5;28;01mas\u001B[39;00m\u001B[38;5;250m \u001B[39m\u001B[38;5;21;01mpd\u001B[39;00m\n\u001B[1;32m----> 2\u001B[0m \u001B[38;5;28;01mfrom\u001B[39;00m\u001B[38;5;250m \u001B[39m\u001B[38;5;21;01msklearn\u001B[39;00m\u001B[38;5;21;01m.\u001B[39;00m\u001B[38;5;21;01mmodel_selection\u001B[39;00m\u001B[38;5;250m \u001B[39m\u001B[38;5;28;01mimport\u001B[39;00m train_test_split\n\u001B[0;32m      3\u001B[0m \u001B[38;5;28;01mfrom\u001B[39;00m\u001B[38;5;250m \u001B[39m\u001B[38;5;21;01msklearn\u001B[39;00m\u001B[38;5;21;01m.\u001B[39;00m\u001B[38;5;21;01mlinear_model\u001B[39;00m\u001B[38;5;250m \u001B[39m\u001B[38;5;28;01mimport\u001B[39;00m LogisticRegression\n\u001B[0;32m      4\u001B[0m \u001B[38;5;28;01mfrom\u001B[39;00m\u001B[38;5;250m \u001B[39m\u001B[38;5;21;01msklearn\u001B[39;00m\u001B[38;5;21;01m.\u001B[39;00m\u001B[38;5;21;01mmetrics\u001B[39;00m\u001B[38;5;250m \u001B[39m\u001B[38;5;28;01mimport\u001B[39;00m classification_report\n",
      "\u001B[1;31mModuleNotFoundError\u001B[0m: No module named 'sklearn'"
     ]
    }
   ],
   "execution_count": 2
  },
  {
   "metadata": {},
   "cell_type": "markdown",
   "source": "",
   "id": "d7672ddbf34b958a"
  }
 ],
 "metadata": {
  "kernelspec": {
   "display_name": "Python 3",
   "language": "python",
   "name": "python3"
  },
  "language_info": {
   "codemirror_mode": {
    "name": "ipython",
    "version": 2
   },
   "file_extension": ".py",
   "mimetype": "text/x-python",
   "name": "python",
   "nbconvert_exporter": "python",
   "pygments_lexer": "ipython2",
   "version": "2.7.6"
  }
 },
 "nbformat": 4,
 "nbformat_minor": 5
}
