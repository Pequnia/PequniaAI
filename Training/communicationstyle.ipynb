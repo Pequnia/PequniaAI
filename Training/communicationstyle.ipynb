{
 "cells": [
  {
   "metadata": {},
   "cell_type": "markdown",
   "source": [
    "# Communication Style Trait Training for AI Agents (User Input)\n",
    "\n",
    "This notebook trains an AI to recognize and respond according to different **communication styles**. Styles include **Assertive**, **Passive**, **Aggressive**, **Diplomatic**, etc. The user provides sample sentences representing their communication style.\n",
    "\n",
    "### Please provide the following:\n",
    "- A communication style (e.g., Assertive, Passive).\n",
    "- A sentence that represents your communication style.\n"
   ],
   "id": "60f5f4751bcb7cf0"
  },
  {
   "metadata": {},
   "cell_type": "code",
   "outputs": [],
   "execution_count": null,
   "source": [
    "import pandas as pd\n",
    "from sklearn.model_selection import train_test_split\n",
    "from sklearn.linear_model import LogisticRegression\n",
    "from sklearn.metrics import classification_report\n",
    "\n",
    "# Function to get user input and train model\n",
    "def get_user_input_and_train_communication_style():\n",
    "    style = input(\"Enter your communication style (e.g., Assertive, Passive, Aggressive): \")\n",
    "    sentence = input(\"Enter a sentence that represents your communication style: \")\n",
    "\n",
    "    # Create a DataFrame from the user input\n",
    "    data = pd.DataFrame({\n",
    "        'Style': [style],\n",
    "        'Sentence': [sentence]\n",
    "    })\n",
    "\n",
    "    # Convert sentence into word count feature\n",
    "    data['Word Count'] = data['Sentence'].apply(lambda x: len(x.split()))\n",
    "    X = data[['Word Count']]\n",
    "    y = data['Style']\n",
    "\n",
    "    # Train a simple model\n",
    "    model = LogisticRegression(max_iter=200)\n",
    "    model.fit(X, y)\n",
    "\n",
    "    # Print the model details\n",
    "    print(\"Model trained with your input!\")\n",
    "\n",
    "    return model\n",
    "\n",
    "# Get user input and train the model\n",
    "model = get_user_input_and_train_communication_style()\n",
    "\n",
    "# Test the model on new input\n",
    "test_sentence = input(\"Enter a sentence to classify communication style (e.g., 'I need this done now'): \")\n",
    "test_data = pd.DataFrame({\n",
    "    'Sentence': [test_sentence]\n",
    "})\n",
    "test_data['Word Count'] = test_data['Sentence'].apply(lambda x: len(x.split()))\n",
    "\n",
    "# Predict communication style based on input\n",
    "prediction = model.predict(test_data[['Word Count']])\n",
    "print(f\"The predicted communication style for the sentence is: {prediction[0]}\")\n"
   ],
   "id": "f8b732564310fe5"
  }
 ],
 "metadata": {
  "kernelspec": {
   "display_name": "Python 3",
   "language": "python",
   "name": "python3"
  },
  "language_info": {
   "codemirror_mode": {
    "name": "ipython",
    "version": 2
   },
   "file_extension": ".py",
   "mimetype": "text/x-python",
   "name": "python",
   "nbconvert_exporter": "python",
   "pygments_lexer": "ipython2",
   "version": "2.7.6"
  }
 },
 "nbformat": 4,
 "nbformat_minor": 5
}
