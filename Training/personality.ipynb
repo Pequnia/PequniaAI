{
 "cells": [
  {
   "metadata": {},
   "cell_type": "markdown",
   "source": [
    "# Personality Trait Training for AI Agents (User Input)\n",
    "\n",
    "In this notebook, you will provide data about personality traits for training your own personal AI agent. You will input your personality-related details, such as **age**, **interests**, and **personality** traits (Friendly, Professional, etc.). The AI will learn from this data and classify personalities based on the input.\n",
    "\n",
    "Please provide the following details:\n",
    "- Your Name\n",
    "- Age\n",
    "- Interests\n",
    "- Personality Trait (Friendly, Professional, etc.)\n"
   ],
   "id": "c07bdc3679827dd6"
  },
  {
   "metadata": {},
   "cell_type": "code",
   "outputs": [],
   "execution_count": null,
   "source": [
    "import pandas as pd\n",
    "from sklearn.model_selection import train_test_split\n",
    "from sklearn.linear_model import LogisticRegression\n",
    "from sklearn.metrics import classification_report\n",
    "\n",
    "# Function to get user input and train model\n",
    "def get_user_input_and_train():\n",
    "    name = input(\"Enter your name: \")\n",
    "    age = int(input(\"Enter your age: \"))\n",
    "    interests = input(\"Enter your interests (comma separated): \").split(',')\n",
    "    personality = input(\"Enter your personality trait (e.g., Friendly, Professional): \")\n",
    "\n",
    "    # Create a DataFrame from the user input\n",
    "    data = pd.DataFrame({\n",
    "        'Name': [name],\n",
    "        'Age': [age],\n",
    "        'Interests': [', '.join(interests)],\n",
    "        'Personality': [personality]\n",
    "    })\n",
    "\n",
    "    # Convert 'Interests' into dummy variables\n",
    "    data = pd.concat([data, pd.get_dummies(data['Interests'].str.split(', ', expand=True).stack(), prefix='Interest').groupby(level=0).sum()], axis=1)\n",
    "\n",
    "    # Train a simple model\n",
    "    X = data.drop(columns=['Personality'])\n",
    "    y = data['Personality']\n",
    "    model = LogisticRegression(max_iter=200)\n",
    "    model.fit(X, y)\n",
    "\n",
    "    # Print the model details\n",
    "    print(\"Model trained with your input!\")\n",
    "\n",
    "    return model, X.columns\n",
    "\n",
    "# Get user input and train the model\n",
    "model, feature_columns = get_user_input_and_train()\n",
    "\n",
    "# Test the model on new input\n",
    "test_name = input(f\"Enter a name to classify personality (e.g., 'Alice'): \")\n",
    "test_age = int(input(f\"Enter the age of {test_name}: \"))\n",
    "test_interests = input(f\"Enter the interests of {test_name}: \").split(',')\n",
    "\n",
    "# Create a DataFrame for new input\n",
    "test_data = pd.DataFrame({\n",
    "    'Name': [test_name],\n",
    "    'Age': [test_age],\n",
    "    'Interests': [', '.join(test_interests)]\n",
    "})\n",
    "\n",
    "# Convert 'Interests' into dummy variables\n",
    "test_data = pd.concat([test_data, pd.get_dummies(test_data['Interests'].str.split(', ', expand=True).stack(), prefix='Interest').groupby(level=0).sum()], axis=1)\n",
    "\n",
    "# Match test features with the trained model features\n",
    "test_data = test_data[feature_columns]\n",
    "\n",
    "# Predict personality based on input\n",
    "prediction = model.predict(test_data)\n",
    "print(f\"The predicted personality for {test_name} is: {prediction[0]}\")\n"
   ],
   "id": "5a8041504824ceeb"
  }
 ],
 "metadata": {
  "kernelspec": {
   "display_name": "Python 3",
   "language": "python",
   "name": "python3"
  },
  "language_info": {
   "codemirror_mode": {
    "name": "ipython",
    "version": 2
   },
   "file_extension": ".py",
   "mimetype": "text/x-python",
   "name": "python",
   "nbconvert_exporter": "python",
   "pygments_lexer": "ipython2",
   "version": "2.7.6"
  }
 },
 "nbformat": 4,
 "nbformat_minor": 5
}
