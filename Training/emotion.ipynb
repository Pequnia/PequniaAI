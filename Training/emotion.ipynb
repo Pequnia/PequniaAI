{
 "cells": [
  {
   "metadata": {},
   "cell_type": "markdown",
   "source": [
    "# Emotions Trait Training for AI Agents (User Input)\n",
    "\n",
    "This notebook focuses on training an AI agent to recognize and respond to **emotional** states. The emotions can include **Happy**, **Sad**, **Angry**, **Surprised**, and more. The AI will learn to respond according to the emotional input.\n",
    "\n",
    "### Please provide the following:\n",
    "- Enter an emotional state (e.g., Happy, Sad, Angry, Surprised).\n",
    "- Provide a response that aligns with the emotion (e.g., Cheerful, Comforting, Apologetic).\n"
   ],
   "id": "ef01142fae28f5a0"
  },
  {
   "metadata": {},
   "cell_type": "code",
   "outputs": [],
   "execution_count": null,
   "source": [
    "import pandas as pd\n",
    "from sklearn.model_selection import train_test_split\n",
    "from sklearn.linear_model import LogisticRegression\n",
    "from sklearn.metrics import classification_report\n",
    "\n",
    "# Function to get user input and train model\n",
    "def get_user_input_and_train_emotion():\n",
    "    emotion = input(\"Enter the emotion (e.g., Happy, Sad, Angry, Surprised): \")\n",
    "    response = input(\"Enter the response (e.g., Cheerful, Comforting, Apologetic): \")\n",
    "\n",
    "    # Create a DataFrame from the user input\n",
    "    data = pd.DataFrame({\n",
    "        'Emotion': [emotion],\n",
    "        'Response': [response]\n",
    "    })\n",
    "\n",
    "    # Convert 'Emotion' into dummy variables\n",
    "    data = pd.get_dummies(data['Emotion'], prefix='Emotion')\n",
    "    X = data\n",
    "    y = data['Response']\n",
    "\n",
    "    # Train a simple model\n",
    "    model = LogisticRegression(max_iter=200)\n",
    "    model.fit(X, y)\n",
    "\n",
    "    # Print the model details\n",
    "    print(\"Model trained with your input!\")\n",
    "\n",
    "    return model, X.columns\n",
    "\n",
    "# Get user input and train the model\n",
    "model, feature_columns = get_user_input_and_train_emotion()\n",
    "\n",
    "# Test the model on new input\n",
    "test_emotion = input(\"Enter an emotion (e.g., Happy, Sad, Angry): \")\n",
    "\n",
    "# Create a DataFrame for new input\n",
    "test_data = pd.DataFrame({\n",
    "    'Emotion': [test_emotion]\n",
    "})\n",
    "\n",
    "# Convert 'Emotion' into dummy variables\n",
    "test_data = pd.get_dummies(test_data['Emotion'], prefix='Emotion')\n",
    "\n",
    "# Match test features with the trained model features\n",
    "test_data = test_data[feature_columns]\n",
    "\n",
    "# Predict response based on emotion\n",
    "prediction = model.predict(test_data)\n",
    "print(f\"The predicted response for the emotion '{test_emotion}' is: {prediction[0]}\")\n"
   ],
   "id": "ab364d8df0dc8748"
  }
 ],
 "metadata": {
  "kernelspec": {
   "display_name": "Python 3",
   "language": "python",
   "name": "python3"
  },
  "language_info": {
   "codemirror_mode": {
    "name": "ipython",
    "version": 2
   },
   "file_extension": ".py",
   "mimetype": "text/x-python",
   "name": "python",
   "nbconvert_exporter": "python",
   "pygments_lexer": "ipython2",
   "version": "2.7.6"
  }
 },
 "nbformat": 4,
 "nbformat_minor": 5
}
