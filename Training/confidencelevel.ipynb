{
 "cells": [
  {
   "metadata": {},
   "cell_type": "markdown",
   "source": [
    "# Confidence Level Trait Training for AI Agents (User Input)\n",
    "\n",
    "In this notebook, you will provide details about your confidence level. Confidence can range from **Confident**, **Uncertain**, to **Overconfident**, and the AI will adapt based on these inputs.\n",
    "\n",
    "### Please provide the following:\n",
    "- A confidence level (e.g., Confident, Uncertain, Overconfident).\n",
    "- A sentence that matches your confidence level.\n"
   ],
   "id": "f2d11ab92e00905d"
  },
  {
   "metadata": {},
   "cell_type": "code",
   "outputs": [],
   "execution_count": null,
   "source": [
    "import pandas as pd\n",
    "from sklearn.model_selection import train_test_split\n",
    "from sklearn.linear_model import LogisticRegression\n",
    "from sklearn.metrics import classification_report\n",
    "\n",
    "# Function to get user input and train model\n",
    "def get_user_input_and_train_confidence():\n",
    "    confidence_level = input(\"Enter your confidence level (e.g., Confident, Uncertain, Overconfident): \")\n",
    "    sentence = input(\"Enter a sentence that represents your confidence level: \")\n",
    "\n",
    "    # Create a DataFrame from the user input\n",
    "    data = pd.DataFrame({\n",
    "        'Confidence Level': [confidence_level],\n",
    "        'Sentence': [sentence]\n",
    "    })\n",
    "\n",
    "    # Convert sentence into word count feature\n",
    "    data['Word Count'] = data['Sentence'].apply(lambda x: len(x.split()))\n",
    "    X = data[['Word Count']]\n",
    "    y = data['Confidence Level']\n",
    "\n",
    "    # Train a simple model\n",
    "    model = LogisticRegression(max_iter=200)\n",
    "    model.fit(X, y)\n",
    "\n",
    "    # Print the model details\n",
    "    print(\"Model trained with your input!\")\n",
    "\n",
    "    return model\n",
    "\n",
    "# Get user input and train the model\n",
    "model = get_user_input_and_train_confidence()\n",
    "\n",
    "# Test the model on new input\n",
    "test_sentence = input(\"Enter a sentence to classify confidence level (e.g., 'I am very sure about this'): \")\n",
    "test_data = pd.DataFrame({\n",
    "    'Sentence': [test_sentence]\n",
    "})\n",
    "test_data['Word Count'] = test_data['Sentence'].apply(lambda x: len(x.split()))\n",
    "\n",
    "# Predict confidence level based on input\n",
    "prediction = model.predict(test_data[['Word Count']])\n",
    "print(f\"The predicted confidence level for the sentence is: {prediction[0]}\")\n"
   ],
   "id": "5c4ec96f2f1d994a"
  }
 ],
 "metadata": {
  "kernelspec": {
   "display_name": "Python 3",
   "language": "python",
   "name": "python3"
  },
  "language_info": {
   "codemirror_mode": {
    "name": "ipython",
    "version": 2
   },
   "file_extension": ".py",
   "mimetype": "text/x-python",
   "name": "python",
   "nbconvert_exporter": "python",
   "pygments_lexer": "ipython2",
   "version": "2.7.6"
  }
 },
 "nbformat": 4,
 "nbformat_minor": 5
}
