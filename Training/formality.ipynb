{
 "cells": [
  {
   "metadata": {},
   "cell_type": "markdown",
   "source": [
    "# Formality Trait Training for AI Agents (User Input)\n",
    "\n",
    "In this notebook, we will train an AI to recognize and respond in different **formality levels**. Users can define whether their AI agent should be more **Formal** or **Informal** in its responses.\n",
    "\n",
    "### Please provide the following:\n",
    "- A formality level (e.g., Formal, Informal).\n",
    "- A sentence that matches your formality level.\n"
   ],
   "id": "6c1efa0d548944b8"
  },
  {
   "metadata": {},
   "cell_type": "code",
   "outputs": [],
   "execution_count": null,
   "source": [
    "import pandas as pd\n",
    "from sklearn.model_selection import train_test_split\n",
    "from sklearn.linear_model import LogisticRegression\n",
    "from sklearn.metrics import classification_report\n",
    "\n",
    "# Function to get user input and train model\n",
    "def get_user_input_and_train_formality():\n",
    "    formality = input(\"Enter your formality level (e.g., Formal, Informal): \")\n",
    "    sentence = input(\"Enter a sentence that matches your formality level: \")\n",
    "\n",
    "    # Create a DataFrame from the user input\n",
    "    data = pd.DataFrame({\n",
    "        'Formality': [formality],\n",
    "        'Sentence': [sentence]\n",
    "    })\n",
    "\n",
    "    # Convert sentence into word count feature\n",
    "    data['Word Count'] = data['Sentence'].apply(lambda x: len(x.split()))\n",
    "    X = data[['Word Count']]\n",
    "    y = data['Formality']\n",
    "\n",
    "    # Train a simple model\n",
    "    model = LogisticRegression(max_iter=200)\n",
    "    model.fit(X, y)\n",
    "\n",
    "    # Print the model details\n",
    "    print(\"Model trained with your input!\")\n",
    "\n",
    "    return model\n",
    "\n",
    "# Get user input and train the model\n",
    "model = get_user_input_and_train_formality()\n",
    "\n",
    "# Test the model on new input\n",
    "test_sentence = input(\"Enter a sentence to classify formality (e.g., 'Would you like me to assist you?'): \")\n",
    "test_data = pd.DataFrame({\n",
    "    'Sentence': [test_sentence]\n",
    "})\n",
    "test_data['Word Count'] = test_data['Sentence'].apply(lambda x: len(x.split()))\n",
    "\n",
    "# Predict formality level based on input\n",
    "prediction = model.predict(test_data[['Word Count']])\n",
    "print(f\"The predicted formality level for the sentence is: {prediction[0]}\")\n"
   ],
   "id": "c59cc5ace104ec12"
  }
 ],
 "metadata": {
  "kernelspec": {
   "display_name": "Python 3",
   "language": "python",
   "name": "python3"
  },
  "language_info": {
   "codemirror_mode": {
    "name": "ipython",
    "version": 2
   },
   "file_extension": ".py",
   "mimetype": "text/x-python",
   "name": "python",
   "nbconvert_exporter": "python",
   "pygments_lexer": "ipython2",
   "version": "2.7.6"
  }
 },
 "nbformat": 4,
 "nbformat_minor": 5
}
