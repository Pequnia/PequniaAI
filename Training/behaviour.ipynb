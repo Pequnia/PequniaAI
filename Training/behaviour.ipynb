{
 "cells": [
  {
   "metadata": {},
   "cell_type": "markdown",
   "source": [
    "# Behavior Trait Training for AI Agents (User Input)\n",
    "\n",
    "In this notebook, you will provide data about behavior traits for training your own personal AI agent. You will input details such as **actions** (Shouting, Speaking Calmly) and **emotions** (Anger, Calm), and the AI will learn from this data to classify behavior traits like **Aggressive**, **Calm**, or **Assertive**.\n",
    "\n",
    "Please provide the following details:\n",
    "- Actions (e.g., Speak Firmly, Talk Calmly, Shout)\n",
    "- Emotions (e.g., Anger, Calm, Confidence)\n",
    "- Behavior Trait (e.g., Aggressive, Calm)\n"
   ],
   "id": "dad115079e36def2"
  },
  {
   "metadata": {},
   "cell_type": "code",
   "outputs": [],
   "execution_count": null,
   "source": [
    "import pandas as pd\n",
    "from sklearn.model_selection import train_test_split\n",
    "from sklearn.linear_model import LogisticRegression\n",
    "from sklearn.metrics import classification_report\n",
    "\n",
    "# Function to get user input and train model\n",
    "def get_user_input_and_train_behavior():\n",
    "    action = input(\"Enter the action (e.g., Speak Firmly, Talk Calmly, Shout): \")\n",
    "    emotion = input(\"Enter the emotion (e.g., Anger, Calm, Confidence): \")\n",
    "    behavior = input(\"Enter the behavior trait (e.g., Aggressive, Calm): \")\n",
    "\n",
    "    # Create a DataFrame from the user input\n",
    "    data = pd.DataFrame({\n",
    "        'Action': [action],\n",
    "        'Emotion': [emotion],\n",
    "        'Behavior': [behavior]\n",
    "    })\n",
    "\n",
    "    # Convert 'Action' and 'Emotion' into dummy variables\n",
    "    data = pd.concat([data, pd.get_dummies(data[['Action', 'Emotion']], prefix=['Action', 'Emotion'])], axis=1)\n",
    "\n",
    "    # Train a simple model\n",
    "    X = data.drop(columns=['Behavior'])\n",
    "    y = data['Behavior']\n",
    "    model = LogisticRegression(max_iter=200)\n",
    "    model.fit(X, y)\n",
    "\n",
    "    # Print the model details\n",
    "    print(\"Model trained with your input!\")\n",
    "\n",
    "    return model, X.columns\n",
    "\n",
    "# Get user input and train the model\n",
    "model, feature_columns = get_user_input_and_train_behavior()\n",
    "\n",
    "# Test the model on new input\n",
    "test_action = input(\"Enter an action (e.g., Speak Firmly): \")\n",
    "test_emotion = input(\"Enter an emotion (e.g., Anger): \")\n",
    "\n",
    "# Create a DataFrame for new input\n",
    "test_data = pd.DataFrame({\n",
    "    'Action': [test_action],\n",
    "    'Emotion': [test_emotion]\n",
    "})\n",
    "\n",
    "# Convert 'Action' and 'Emotion' into dummy variables\n",
    "test_data = pd.concat([test_data, pd.get_dummies(test_data[['Action', 'Emotion']], prefix=['Action', 'Emotion'])], axis=1)\n",
    "\n",
    "# Match test features with the trained model features\n",
    "test_data = test_data[feature_columns]\n",
    "\n",
    "# Predict behavior based on input\n",
    "prediction = model.predict(test_data)\n",
    "print(f\"The predicted behavior for the action '{test_action}' and emotion '{test_emotion}' is: {prediction[0]}\")\n"
   ],
   "id": "136f6d6b294c9d16"
  },
  {
   "metadata": {},
   "cell_type": "markdown",
   "source": "",
   "id": "603d59eb2b8ba626"
  }
 ],
 "metadata": {
  "kernelspec": {
   "display_name": "Python 3",
   "language": "python",
   "name": "python3"
  },
  "language_info": {
   "codemirror_mode": {
    "name": "ipython",
    "version": 2
   },
   "file_extension": ".py",
   "mimetype": "text/x-python",
   "name": "python",
   "nbconvert_exporter": "python",
   "pygments_lexer": "ipython2",
   "version": "2.7.6"
  }
 },
 "nbformat": 4,
 "nbformat_minor": 5
}
